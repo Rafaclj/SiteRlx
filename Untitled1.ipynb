{
  "nbformat": 4,
  "nbformat_minor": 0,
  "metadata": {
    "colab": {
      "provenance": [],
      "mount_file_id": "1zsO5rG8ETpuocz4gTjUqylJHlVpGH_w8",
      "authorship_tag": "ABX9TyPefQ2einy8kuN91d5XJCX/",
      "include_colab_link": true
    },
    "kernelspec": {
      "name": "python3",
      "display_name": "Python 3"
    },
    "language_info": {
      "name": "python"
    }
  },
  "cells": [
    {
      "cell_type": "markdown",
      "metadata": {
        "id": "view-in-github",
        "colab_type": "text"
      },
      "source": [
        "<a href=\"https://colab.research.google.com/github/Rafaclj/SiteRlx/blob/master/Untitled1.ipynb\" target=\"_parent\"><img src=\"https://colab.research.google.com/assets/colab-badge.svg\" alt=\"Open In Colab\"/></a>"
      ]
    },
    {
      "cell_type": "code",
      "execution_count": null,
      "metadata": {
        "id": "K9gIxaEn04kG"
      },
      "outputs": [],
      "source": []
    },
    {
      "cell_type": "code",
      "source": [
        "import os\n",
        "import pandas as pd\n",
        "import plotly.express as px\n",
        "\n",
        "lista_arquivo = os.listdir(\"/content/drive/MyDrive/01-20 - Curso de Python - Aula 2/Vendas\")\n",
        "\n",
        "tabela_total = pd.DataFrame()\n",
        "\n",
        "for arquivo in lista_arquivo:\n",
        "  if \"vendas\" in arquivo.lower():\n",
        "   tabela = pd.read_csv(f\"/content/drive/MyDrive/01-20 - Curso de Python - Aula 2/Vendas/{arquivo}\")\n",
        "   tabela_total = tabela_total.append(tabela)\n",
        "tabela_produtos = tabela_total.groupby(\"Produto\").sum()\n",
        "tabela_produtos = tabela_produtos[[\"Quantidade Vendida\" , \"Preco Unitario\"]].sort_values(by=\"Quantidade Vendida\", ascending = False)\n",
        "\n",
        "tabela_total['Faturamento'] = tabela_total['Quantidade Vendida'] * tabela_total['Preco Unitario']\n",
        "\n",
        "\n",
        "tabela_faturamento = tabela_total.groupby(\"Produto\").sum()\n",
        "tabela_faturamento = tabela_faturamento[[\"Faturamento\"]].sort_values(by=\"Faturamento\", ascending = False)\n",
        "\n",
        "\n",
        "tabela_loja = tabela_total.groupby('Loja').sum()\n",
        "tabela_loja = tabela_loja[['Faturamento']].sort_values(by=\"Faturamento\",ascending = False)\n",
        "\n",
        "grafico = px.bar(tabela_loja, x=tabela_loja.index, y='Faturamento')\n",
        "grafico.show()"
      ],
      "metadata": {
        "id": "pVmE5FJV06FD"
      },
      "execution_count": null,
      "outputs": []
    }
  ]
}